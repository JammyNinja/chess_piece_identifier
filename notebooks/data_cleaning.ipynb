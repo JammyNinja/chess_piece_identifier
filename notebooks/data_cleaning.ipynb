{
 "cells": [
  {
   "cell_type": "code",
   "execution_count": null,
   "id": "bba11941",
   "metadata": {
    "ExecuteTime": {
     "end_time": "2023-05-15T10:29:08.671835Z",
     "start_time": "2023-05-15T10:29:07.891890Z"
    }
   },
   "outputs": [],
   "source": [
    "%load_ext autoreload\n",
    "%autoreload 2\n",
    "\n",
    "from chess_scripts.image_display import ImageDisplay\n",
    "# import chess_scripts"
   ]
  },
  {
   "cell_type": "code",
   "execution_count": null,
   "id": "971a5d84",
   "metadata": {
    "ExecuteTime": {
     "end_time": "2023-05-15T10:29:08.693737Z",
     "start_time": "2023-05-15T10:29:08.674222Z"
    }
   },
   "outputs": [],
   "source": [
    "my_display = ImageDisplay()"
   ]
  },
  {
   "cell_type": "code",
   "execution_count": null,
   "id": "b32feaec",
   "metadata": {
    "ExecuteTime": {
     "end_time": "2023-05-15T10:29:08.715286Z",
     "start_time": "2023-05-15T10:29:08.700575Z"
    }
   },
   "outputs": [],
   "source": [
    "#TODO\n",
    "\n",
    "#DATA CLEANING"
   ]
  },
  {
   "cell_type": "code",
   "execution_count": null,
   "id": "797dcbc6",
   "metadata": {
    "ExecuteTime": {
     "end_time": "2023-05-15T10:29:11.312416Z",
     "start_time": "2023-05-15T10:29:08.722434Z"
    }
   },
   "outputs": [],
   "source": [
    "import numpy as np\n",
    "import pandas as pd\n",
    "import matplotlib.pyplot as plt\n",
    "import seaborn as sns\n",
    "import os\n",
    "\n",
    "from tensorflow.keras.utils import image_dataset_from_directory"
   ]
  },
  {
   "cell_type": "code",
   "execution_count": null,
   "id": "382b7999",
   "metadata": {
    "ExecuteTime": {
     "end_time": "2023-05-15T10:29:11.357919Z",
     "start_time": "2023-05-15T10:29:11.315387Z"
    }
   },
   "outputs": [],
   "source": [
    "#some global variables\n",
    "path_to_dataset = os.path.join(\"..\",\"data\",\"chess_pieces_images\")\n",
    "IMG_SIZE = 200 #?\n",
    "BATCH_SIZE = 32\n",
    "my_seed = 69 \n",
    "\n",
    "class_names = [\"bishop\", \"knight\", \"pawn\", \"queen\", \"rook\"]\n",
    "num_classes = len(class_names)"
   ]
  },
  {
   "cell_type": "code",
   "execution_count": null,
   "id": "9adf00d7",
   "metadata": {
    "ExecuteTime": {
     "end_time": "2023-05-15T12:13:34.286723Z",
     "start_time": "2023-05-15T12:13:34.155758Z"
    }
   },
   "outputs": [],
   "source": [
    "#load the data in\n",
    "\n",
    "X_all = image_dataset_from_directory(\n",
    "            path_to_dataset,\n",
    "            labels='inferred',\n",
    "            class_names = class_names,\n",
    "            color_mode = 'rgb',\n",
    "            seed = my_seed, #lol\n",
    "            image_size=(IMG_SIZE, IMG_SIZE),\n",
    "            batch_size=BATCH_SIZE,\n",
    "            shuffle=False\n",
    "            )\n",
    "\n",
    "# X_train = image_dataset_from_directory(\n",
    "#         path_to_dataset,\n",
    "#         #label_mode=\"int\",\n",
    "#         labels='inferred',\n",
    "#         class_names = class_names,\n",
    "#         color_mode=\"rgb\",\n",
    "#         seed=my_seed,\n",
    "#         subset=\"training\",\n",
    "#         validation_split=test_split,\n",
    "#         image_size=(IMG_SIZE, IMG_SIZE),\n",
    "#         batch_size=BATCH_SIZE,\n",
    "#         shuffle=True\n",
    "#         )"
   ]
  },
  {
   "cell_type": "code",
   "execution_count": null,
   "id": "3c24d91f",
   "metadata": {
    "ExecuteTime": {
     "end_time": "2023-05-15T10:29:11.973411Z",
     "start_time": "2023-05-15T10:29:11.664175Z"
    }
   },
   "outputs": [],
   "source": [
    "def inspect_images(X_all):\n",
    "    for i,x_batch in X_all.enumerate().as_numpy_iterator():\n",
    "        if i == 0:\n",
    "            #print(i)\n",
    "            print(x_batch[0].shape)\n",
    "            print(x_batch[1].shape)\n",
    "            #plt.imshow(x/255)\n",
    "inspect_images(X_all)"
   ]
  },
  {
   "cell_type": "code",
   "execution_count": null,
   "id": "0b256cd8",
   "metadata": {
    "ExecuteTime": {
     "end_time": "2023-05-15T10:29:12.018979Z",
     "start_time": "2023-05-15T10:29:11.976317Z"
    }
   },
   "outputs": [],
   "source": [
    "#print multiple plots\n",
    "    #titles to include class/filename"
   ]
  },
  {
   "cell_type": "code",
   "execution_count": null,
   "id": "611d4367",
   "metadata": {
    "ExecuteTime": {
     "end_time": "2023-05-15T10:29:12.410942Z",
     "start_time": "2023-05-15T10:29:12.024783Z"
    }
   },
   "outputs": [],
   "source": [
    "def get_test_image_and_label_as_numpy(X_batches_in):\n",
    "    \n",
    "    for image_batch, label_batch in X_batches_in:\n",
    "        for image, label in zip(image_batch, label_batch):\n",
    "            return image.numpy(), label.numpy()\n",
    "        \n",
    "test_image, test_label = get_test_image_and_label_as_numpy(X_all)\n",
    "plt.imshow(test_image/255);\n",
    "plt.title(class_names[test_label]);"
   ]
  },
  {
   "cell_type": "code",
   "execution_count": null,
   "id": "4830b05c",
   "metadata": {
    "ExecuteTime": {
     "end_time": "2023-05-15T10:29:12.457710Z",
     "start_time": "2023-05-15T10:29:12.413955Z"
    }
   },
   "outputs": [],
   "source": [
    "test_image.max()"
   ]
  },
  {
   "cell_type": "code",
   "execution_count": null,
   "id": "97e076f9",
   "metadata": {
    "ExecuteTime": {
     "end_time": "2023-05-15T10:29:12.633402Z",
     "start_time": "2023-05-15T10:29:12.460297Z"
    }
   },
   "outputs": [],
   "source": []
  },
  {
   "cell_type": "code",
   "execution_count": null,
   "id": "223f794f",
   "metadata": {
    "ExecuteTime": {
     "end_time": "2023-05-15T10:29:13.622342Z",
     "start_time": "2023-05-15T10:29:12.639628Z"
    },
    "scrolled": true
   },
   "outputs": [],
   "source": [
    "\n"
   ]
  },
  {
   "cell_type": "code",
   "execution_count": null,
   "id": "211994d9",
   "metadata": {
    "ExecuteTime": {
     "end_time": "2023-05-15T12:04:09.694850Z",
     "start_time": "2023-05-15T10:52:44.440133Z"
    }
   },
   "outputs": [],
   "source": [
    "def inspect_all_images(X_in, ax=None, start=0):\n",
    "    fig, this_ax = plt.subplots(figsize=(10,6))\n",
    "    \n",
    "    for i, (image,label) in enumerate( X_in.unbatch().as_numpy_iterator() ):\n",
    "        if i < start:\n",
    "            continue\n",
    "            \n",
    "        #get/set meta\n",
    "        title = f\"image #{i} : {class_names[label]}\"\n",
    "        file = \"/\".join(X_in.file_paths[i].split('/')[3:])\n",
    "        \n",
    "        #plot and show the ax\n",
    "        my_display.plot_image(ax=plt.gca(), image=image, title=title)\n",
    "        plt.show()\n",
    "        \n",
    "        #get and store feedback\n",
    "        comment = input(str(X_in.file_paths[i] + \"\\n\"))        \n",
    "        if comment:\n",
    "            with open('../data/flagged_images.txt', 'a') as flag_file:\n",
    "                flag_file.write(f\"{file} #{i} : {comment} \\n\")\n",
    "                \n",
    "        #clear axis and repeat\n",
    "        plt.cla()\n",
    "    return None\n",
    "\n",
    "inspect_all_images(X_all)"
   ]
  },
  {
   "cell_type": "code",
   "execution_count": null,
   "id": "c3d1bb48",
   "metadata": {},
   "outputs": [],
   "source": []
  },
  {
   "cell_type": "code",
   "execution_count": null,
   "id": "82559611",
   "metadata": {
    "ExecuteTime": {
     "end_time": "2023-05-15T12:15:38.834193Z",
     "start_time": "2023-05-15T12:15:38.767362Z"
    }
   },
   "outputs": [],
   "source": [
    "import os\n",
    "def delete_flagged_files(flagfile_path='../data/flagged_images.txt'):\n",
    "    paths_to_delete = []\n",
    "    with open(flagfile_path, 'r') as flag_file:\n",
    "        path_to_data = \"../data/chess_pieces_images/\"\n",
    "        for line in flag_file:\n",
    "            file_to_delete = line.split(\" \")[0]\n",
    "            path_to_delete = os.path.join(path_to_data, file_to_delete)\n",
    "            paths_to_delete.append(path_to_delete)\n",
    "    \n",
    "    for path in paths_to_delete:\n",
    "        os.remove(path)\n",
    "    \n",
    "    print(f\"deleted {len(paths_to_delete)} files\")\n",
    "delete_flagged_files()"
   ]
  },
  {
   "cell_type": "code",
   "execution_count": null,
   "id": "886530fd",
   "metadata": {
    "ExecuteTime": {
     "end_time": "2023-05-15T12:12:54.099208Z",
     "start_time": "2023-05-15T12:12:54.061588Z"
    }
   },
   "outputs": [],
   "source": []
  },
  {
   "cell_type": "code",
   "execution_count": null,
   "id": "08e5f7ad",
   "metadata": {
    "ExecuteTime": {
     "end_time": "2023-05-15T12:37:42.178032Z",
     "start_time": "2023-05-15T12:31:25.165361Z"
    }
   },
   "outputs": [],
   "source": [
    "my_display = ImageDisplay()\n",
    "my_display.inspect_all_images(X_all)"
   ]
  },
  {
   "cell_type": "code",
   "execution_count": null,
   "id": "e6daf4fa",
   "metadata": {
    "ExecuteTime": {
     "end_time": "2023-05-15T12:40:35.799336Z",
     "start_time": "2023-05-15T12:40:35.494313Z"
    }
   },
   "outputs": [],
   "source": [
    "my_display.delete_flagged_files()"
   ]
  },
  {
   "cell_type": "code",
   "execution_count": null,
   "id": "0189a0e8",
   "metadata": {
    "ExecuteTime": {
     "end_time": "2023-05-15T12:48:37.025255Z",
     "start_time": "2023-05-15T12:48:32.925763Z"
    }
   },
   "outputs": [],
   "source": [
    "fig, axs = my_display.show_batch_images(X_all, 120)"
   ]
  },
  {
   "cell_type": "code",
   "execution_count": null,
   "id": "3907884c",
   "metadata": {
    "ExecuteTime": {
     "end_time": "2023-05-15T12:51:52.408223Z",
     "start_time": "2023-05-15T12:51:44.302541Z"
    }
   },
   "outputs": [],
   "source": [
    "my_display.inspect_all_images(X_all)"
   ]
  },
  {
   "cell_type": "code",
   "execution_count": null,
   "id": "63ee1f60",
   "metadata": {},
   "outputs": [],
   "source": []
  }
 ],
 "metadata": {
  "kernelspec": {
   "display_name": "Python 3 (ipykernel)",
   "language": "python",
   "name": "python3"
  },
  "language_info": {
   "codemirror_mode": {
    "name": "ipython",
    "version": 3
   },
   "file_extension": ".py",
   "mimetype": "text/x-python",
   "name": "python",
   "nbconvert_exporter": "python",
   "pygments_lexer": "ipython3",
   "version": "3.10.6"
  },
  "toc": {
   "base_numbering": 1,
   "nav_menu": {},
   "number_sections": true,
   "sideBar": true,
   "skip_h1_title": false,
   "title_cell": "Table of Contents",
   "title_sidebar": "Contents",
   "toc_cell": false,
   "toc_position": {},
   "toc_section_display": true,
   "toc_window_display": false
  }
 },
 "nbformat": 4,
 "nbformat_minor": 5
}
